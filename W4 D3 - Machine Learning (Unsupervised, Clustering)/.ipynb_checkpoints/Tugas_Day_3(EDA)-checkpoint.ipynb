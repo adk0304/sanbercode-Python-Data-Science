{
 "cells": [
  {
   "cell_type": "markdown",
   "metadata": {
    "id": "EqmubOp2whk3"
   },
   "source": [
    "# Soal 1. Pemahaman k-means clustering\n",
    "\n",
    "Jelaskan bagaimana cara kerja k-means clustering!"
   ]
  },
  {
   "cell_type": "markdown",
   "metadata": {
    "id": "gf8y3llqw369"
   },
   "source": [
    "Jawab disini:\n",
    "\n"
   ]
  },
  {
   "cell_type": "markdown",
   "metadata": {
    "id": "oXGsjqHCk7DW"
   },
   "source": [
    "Proses K-Mean Clustering\n",
    "- handling missing value terlebih dahulu data tersebut \n",
    "- handling outlier untuk menghapus outlier dalam data\n",
    "- melakukan rescaling \n",
    "- menentukan nilai n-clusters, dan random state untuk titk awal cluster\n",
    "-melakukan perhitungan cluster berulang untuk mengoptimakan posisi centroid\n",
    "- mendapatkan posisi centroid yang diinginkan dalam visual / grafik\n",
    "\n",
    "bisa juga sebelum melakukan proses clustering kMean, melakukan elbow graph terlebih dahulu untuk mendapatkan nilai n-clusters yang direkomendasikan"
   ]
  },
  {
   "cell_type": "markdown",
   "metadata": {
    "id": "NoX-A3wElHoq"
   },
   "source": [
    "Download disini [pelanggan.csv](https://drive.google.com/uc?export=download&id=1jX_rLPfcCfzEEgy9xaoALmpqfU2s5TTB)"
   ]
  },
  {
   "cell_type": "code",
   "execution_count": 77,
   "metadata": {
    "colab": {
     "base_uri": "https://localhost:8080/",
     "height": 204
    },
    "executionInfo": {
     "elapsed": 776,
     "status": "ok",
     "timestamp": 1617786708008,
     "user": {
      "displayName": "Afrida hafizhatul Ulum",
      "photoUrl": "https://lh3.googleusercontent.com/a-/AOh14GhlS_9Q6i4q4ai8Ae6HYz-8Ub9PE3QIsxfVPf8tEQ=s64",
      "userId": "06287560445691811212"
     },
     "user_tz": -420
    },
    "id": "rqRBoUBsw7S0",
    "outputId": "4795491d-6d80-4b6d-dbc1-f6afb60bd02d"
   },
   "outputs": [
    {
     "data": {
      "text/html": [
       "<div>\n",
       "<style scoped>\n",
       "    .dataframe tbody tr th:only-of-type {\n",
       "        vertical-align: middle;\n",
       "    }\n",
       "\n",
       "    .dataframe tbody tr th {\n",
       "        vertical-align: top;\n",
       "    }\n",
       "\n",
       "    .dataframe thead th {\n",
       "        text-align: right;\n",
       "    }\n",
       "</style>\n",
       "<table border=\"1\" class=\"dataframe\">\n",
       "  <thead>\n",
       "    <tr style=\"text-align: right;\">\n",
       "      <th></th>\n",
       "      <th>ID_pelanggan</th>\n",
       "      <th>Jenis Kelamin</th>\n",
       "      <th>Umur</th>\n",
       "      <th>Pendapatan pertahun (juta)</th>\n",
       "      <th>Skor Belanja (1-100)</th>\n",
       "    </tr>\n",
       "  </thead>\n",
       "  <tbody>\n",
       "    <tr>\n",
       "      <th>0</th>\n",
       "      <td>1</td>\n",
       "      <td>Laki-laki</td>\n",
       "      <td>19.0</td>\n",
       "      <td>15</td>\n",
       "      <td>39.0</td>\n",
       "    </tr>\n",
       "    <tr>\n",
       "      <th>1</th>\n",
       "      <td>2</td>\n",
       "      <td>Laki-laki</td>\n",
       "      <td>21.0</td>\n",
       "      <td>15</td>\n",
       "      <td>81.0</td>\n",
       "    </tr>\n",
       "    <tr>\n",
       "      <th>2</th>\n",
       "      <td>3</td>\n",
       "      <td>Perempuan</td>\n",
       "      <td>20.0</td>\n",
       "      <td>16</td>\n",
       "      <td>6.0</td>\n",
       "    </tr>\n",
       "    <tr>\n",
       "      <th>3</th>\n",
       "      <td>4</td>\n",
       "      <td>Perempuan</td>\n",
       "      <td>23.0</td>\n",
       "      <td>16</td>\n",
       "      <td>77.0</td>\n",
       "    </tr>\n",
       "    <tr>\n",
       "      <th>4</th>\n",
       "      <td>5</td>\n",
       "      <td>Perempuan</td>\n",
       "      <td>31.0</td>\n",
       "      <td>17</td>\n",
       "      <td>40.0</td>\n",
       "    </tr>\n",
       "  </tbody>\n",
       "</table>\n",
       "</div>"
      ],
      "text/plain": [
       "   ID_pelanggan Jenis Kelamin  Umur  Pendapatan pertahun (juta)  \\\n",
       "0             1     Laki-laki  19.0                          15   \n",
       "1             2     Laki-laki  21.0                          15   \n",
       "2             3     Perempuan  20.0                          16   \n",
       "3             4     Perempuan  23.0                          16   \n",
       "4             5     Perempuan  31.0                          17   \n",
       "\n",
       "   Skor Belanja (1-100)  \n",
       "0                  39.0  \n",
       "1                  81.0  \n",
       "2                   6.0  \n",
       "3                  77.0  \n",
       "4                  40.0  "
      ]
     },
     "execution_count": 77,
     "metadata": {},
     "output_type": "execute_result"
    }
   ],
   "source": [
    "import pandas as pd\n",
    "import matplotlib.pyplot as plt\n",
    "import numpy as np\n",
    "import seaborn as sns\n",
    "from sklearn.preprocessing import StandardScaler\n",
    "from sklearn.cluster import KMeans\n",
    "from sklearn.metrics import silhouette_score\n",
    "\n",
    "df = pd.read_csv('pelanggan_supermarket.csv')\n",
    "df.head()"
   ]
  },
  {
   "cell_type": "code",
   "execution_count": 20,
   "metadata": {},
   "outputs": [
    {
     "name": "stdout",
     "output_type": "stream",
     "text": [
      "<class 'pandas.core.frame.DataFrame'>\n",
      "RangeIndex: 250 entries, 0 to 249\n",
      "Data columns (total 5 columns):\n",
      " #   Column                      Non-Null Count  Dtype  \n",
      "---  ------                      --------------  -----  \n",
      " 0   ID_pelanggan                250 non-null    int64  \n",
      " 1   Jenis Kelamin               250 non-null    object \n",
      " 2   Umur                        245 non-null    float64\n",
      " 3   Pendapatan pertahun (juta)  250 non-null    int64  \n",
      " 4   Skor Belanja (1-100)        246 non-null    float64\n",
      "dtypes: float64(2), int64(2), object(1)\n",
      "memory usage: 9.9+ KB\n"
     ]
    }
   ],
   "source": [
    "df.info()"
   ]
  },
  {
   "cell_type": "markdown",
   "metadata": {
    "id": "AByM6XoYMkTy"
   },
   "source": [
    "# Soal 2. Clustering data menggunakan k-means clustering\n",
    "\n",
    "Dalam soal ini, kalian diminta untuk melakukan clustering antara data Umur dan Skor Belanja(1-100). Namun, clustering tidak bisa dilakukan karena data memiliki outlier dan missing value. Maka, lakukanlah tahapan-tahapan berikut:\n",
    "\n",
    "*   Handling missing value dengan menggunakan method ='ffill'\n",
    "*   Handling outlier menggunakan metode Interquartile range\n",
    "*   Lakukan rescaling data menggunakan StandardScaler\n",
    "*   Lakukan clustering menggunakan kmeans clustering dengan k =2, dan visualisasikan.. \n",
    "*   Gunakan Elbow method untuk menemukan jumlah k kluster yang tepat\n",
    "*   Gunakan k=3 (rekomendasi methode Elbow) lalu visualisasikan\n",
    "*   Hitung silhoutte Coefficient dari ke dua hasil prediksi klustering tersebut\n",
    "\n",
    "\n",
    "\n",
    "\n",
    "\n",
    "\n",
    "\n",
    "\n"
   ]
  },
  {
   "cell_type": "code",
   "execution_count": 21,
   "metadata": {},
   "outputs": [
    {
     "name": "stdout",
     "output_type": "stream",
     "text": [
      "[120.]\n",
      "[150.]\n"
     ]
    }
   ],
   "source": [
    "#df.isnull().sum()\n",
    "df.fillna(method='ffill',inplace=True) #menghilangkan null\n",
    "\n",
    "def get_lu_bound(x):\n",
    "    q1=np.percentile(x,25)\n",
    "    q3=np.percentile(x,75)\n",
    "    iqr = q3-q1\n",
    "    lower_bound= q1 -(iqr*1.5)\n",
    "    upper_bound= q3 +(iqr*1.5)\n",
    "    return lower_bound, upper_bound\n",
    "\n",
    "def get_outliers(x):\n",
    "    lower_bound,upper_bound = get_lu_bound(x)\n",
    "    return x[np.where((x>upper_bound)|(x<lower_bound))]\n",
    "#Umur\n",
    "#Skor Belanja (1-100)   \n",
    "print(get_outliers(df['Umur'].values))\n",
    "print(get_outliers(df['Skor Belanja (1-100)'].values))"
   ]
  },
  {
   "cell_type": "code",
   "execution_count": 26,
   "metadata": {},
   "outputs": [
    {
     "data": {
      "text/html": [
       "<div>\n",
       "<style scoped>\n",
       "    .dataframe tbody tr th:only-of-type {\n",
       "        vertical-align: middle;\n",
       "    }\n",
       "\n",
       "    .dataframe tbody tr th {\n",
       "        vertical-align: top;\n",
       "    }\n",
       "\n",
       "    .dataframe thead th {\n",
       "        text-align: right;\n",
       "    }\n",
       "</style>\n",
       "<table border=\"1\" class=\"dataframe\">\n",
       "  <thead>\n",
       "    <tr style=\"text-align: right;\">\n",
       "      <th></th>\n",
       "      <th>Umur</th>\n",
       "      <th>Skor Belanja (1-100)</th>\n",
       "    </tr>\n",
       "  </thead>\n",
       "  <tbody>\n",
       "    <tr>\n",
       "      <th>0</th>\n",
       "      <td>19.0</td>\n",
       "      <td>39.0</td>\n",
       "    </tr>\n",
       "    <tr>\n",
       "      <th>1</th>\n",
       "      <td>21.0</td>\n",
       "      <td>81.0</td>\n",
       "    </tr>\n",
       "    <tr>\n",
       "      <th>2</th>\n",
       "      <td>20.0</td>\n",
       "      <td>6.0</td>\n",
       "    </tr>\n",
       "    <tr>\n",
       "      <th>3</th>\n",
       "      <td>23.0</td>\n",
       "      <td>77.0</td>\n",
       "    </tr>\n",
       "    <tr>\n",
       "      <th>4</th>\n",
       "      <td>31.0</td>\n",
       "      <td>40.0</td>\n",
       "    </tr>\n",
       "    <tr>\n",
       "      <th>...</th>\n",
       "      <td>...</td>\n",
       "      <td>...</td>\n",
       "    </tr>\n",
       "    <tr>\n",
       "      <th>244</th>\n",
       "      <td>27.0</td>\n",
       "      <td>69.0</td>\n",
       "    </tr>\n",
       "    <tr>\n",
       "      <th>245</th>\n",
       "      <td>59.0</td>\n",
       "      <td>14.0</td>\n",
       "    </tr>\n",
       "    <tr>\n",
       "      <th>246</th>\n",
       "      <td>35.0</td>\n",
       "      <td>90.0</td>\n",
       "    </tr>\n",
       "    <tr>\n",
       "      <th>247</th>\n",
       "      <td>37.0</td>\n",
       "      <td>32.0</td>\n",
       "    </tr>\n",
       "    <tr>\n",
       "      <th>248</th>\n",
       "      <td>32.0</td>\n",
       "      <td>86.0</td>\n",
       "    </tr>\n",
       "  </tbody>\n",
       "</table>\n",
       "<p>248 rows × 2 columns</p>\n",
       "</div>"
      ],
      "text/plain": [
       "     Umur  Skor Belanja (1-100)\n",
       "0    19.0                  39.0\n",
       "1    21.0                  81.0\n",
       "2    20.0                   6.0\n",
       "3    23.0                  77.0\n",
       "4    31.0                  40.0\n",
       "..    ...                   ...\n",
       "244  27.0                  69.0\n",
       "245  59.0                  14.0\n",
       "246  35.0                  90.0\n",
       "247  37.0                  32.0\n",
       "248  32.0                  86.0\n",
       "\n",
       "[248 rows x 2 columns]"
      ]
     },
     "execution_count": 26,
     "metadata": {},
     "output_type": "execute_result"
    }
   ],
   "source": [
    "#sns.boxplot(x='Umur',data=df)\n",
    "#sns.boxplot(x='Skor Belanja (1-100)',data=df)\n",
    "def remove_outlier(df):\n",
    "    Q1=df.quantile(0.25)\n",
    "    Q3=df.quantile(0.75)\n",
    "    IQR=Q3-Q1\n",
    "    df_final=df[~((df<(Q1-1.5*IQR))|(df>(Q3+1.5*IQR)))]\n",
    "    return df_final\n",
    "\n",
    "df_outlier_remove=remove_outlier(df[['Umur','Skor Belanja (1-100)']])\n",
    "df_outlier_remove.dropna(axis=0,inplace=True)\n",
    "\n",
    "df_outlier_remove"
   ]
  },
  {
   "cell_type": "code",
   "execution_count": 79,
   "metadata": {},
   "outputs": [
    {
     "name": "stdout",
     "output_type": "stream",
     "text": [
      "n_cluster =2\n"
     ]
    },
    {
     "data": {
      "image/png": "[encoded data removed]",
      "text/plain": [
       "<Figure size 864x576 with 1 Axes>"
      ]
     },
     "metadata": {
      "needs_background": "light"
     },
     "output_type": "display_data"
    },
    {
     "name": "stdout",
     "output_type": "stream",
     "text": [
      "Elbow Graph\n"
     ]
    },
    {
     "data": {
      "image/png": "[encoded data removed]",
      "text/plain": [
       "<Figure size 720x432 with 1 Axes>"
      ]
     },
     "metadata": {
      "needs_background": "light"
     },
     "output_type": "display_data"
    },
    {
     "name": "stdout",
     "output_type": "stream",
     "text": [
      "n_cluster =3\n"
     ]
    },
    {
     "data": {
      "image/png": "[encoded data removed]",
      "text/plain": [
       "<Figure size 864x576 with 1 Axes>"
      ]
     },
     "metadata": {
      "needs_background": "light"
     },
     "output_type": "display_data"
    },
    {
     "name": "stdout",
     "output_type": "stream",
     "text": [
      "silhoutte Coefficient dari ke dua hasil prediksi klustering tersebut\n",
      "0.5245622611810248\n",
      "0.5816811722567546\n"
     ]
    }
   ],
   "source": [
    "#sns.boxplot(x='Umur',data=df_outlier_remove)\n",
    "#sns.boxplot(x='Skor Belanja (1-100)',data=df_outlier_remove)\n",
    "\n",
    "#scaling\n",
    "sc = StandardScaler()\n",
    "dfoutlier_std=sc.fit_transform(df_outlier_remove.astype(float))\n",
    "#clustering KMeans\n",
    "kmeans1= KMeans(n_clusters=2,random_state=42).fit(dfoutlier_std)\n",
    "labels1=kmeans1.labels_\n",
    "\n",
    "new_dfoutlier_std=pd.DataFrame(data=dfoutlier_std,columns=['Umur','Skor Belanja (1-100)'])\n",
    "new_dfoutlier_std['label_kmeans1']=labels1\n",
    "plt.figure(figsize=(12,8))\n",
    "plt.scatter(new_dfoutlier_std['Umur'][new_dfoutlier_std.label_kmeans1==0],new_dfoutlier_std['Skor Belanja (1-100)'][new_dfoutlier_std.label_kmeans1==0],c='blue',s=100,edgecolor='green',linestyle=\"-\" )\n",
    "plt.scatter(new_dfoutlier_std['Umur'][new_dfoutlier_std.label_kmeans1==1],new_dfoutlier_std['Skor Belanja (1-100)'][new_dfoutlier_std.label_kmeans1==1],c='red',s=100,edgecolor='green',linestyle=\"-\" )\n",
    "\n",
    "centers = kmeans1.cluster_centers_\n",
    "plt.scatter(centers[:,0],centers[:,1],c='black',s=500)\n",
    "plt.xlabel('Umur')\n",
    "plt.ylabel('Skor Belanja (1-100)')\n",
    "print('n_cluster =2')\n",
    "plt.show()\n",
    "\n",
    "#elbow method\n",
    "wcss =[]\n",
    "for i in range(1,11):\n",
    "    kmeans= KMeans(n_clusters=i, init='k-means++',random_state=42)\n",
    "    kmeans.fit(new_dfoutlier_std)\n",
    "    wcss.append(kmeans.inertia_)\n",
    "plt.figure(figsize=(10,6))\n",
    "plt.plot(range(1,11),wcss)\n",
    "plt.title('The Elbow Method')\n",
    "plt.xlabel('Number of clusters')\n",
    "plt.ylabel('WCSS')\n",
    "print('Elbow Graph')\n",
    "plt.show()\n",
    "\n",
    "#cluster 3 (yang direkomendasikan oleh elbow method)\n",
    "kmeans2= KMeans(n_clusters=3, init='k-means++',random_state=42).fit(dfoutlier_std)\n",
    "kmeans2.labels_\n",
    "\n",
    "labels2=kmeans2.labels_\n",
    "new_dfoutlier_std['label_kmeans2']=labels2\n",
    "\n",
    "plt.figure(figsize=(12,8))\n",
    "plt.scatter(new_dfoutlier_std['Umur'][new_dfoutlier_std.label_kmeans2==0],new_dfoutlier_std['Skor Belanja (1-100)'][new_dfoutlier_std.label_kmeans2==0],c='green',s=100,edgecolor='green',linestyle=\"-\" )\n",
    "plt.scatter(new_dfoutlier_std['Umur'][new_dfoutlier_std.label_kmeans2==1],new_dfoutlier_std['Skor Belanja (1-100)'][new_dfoutlier_std.label_kmeans2==1],c='red',s=100,edgecolor='green',linestyle=\"-\" )\n",
    "plt.scatter(new_dfoutlier_std['Umur'][new_dfoutlier_std.label_kmeans2==2],new_dfoutlier_std['Skor Belanja (1-100)'][new_dfoutlier_std.label_kmeans2==2],c='blue',s=100,edgecolor='green',linestyle=\"-\" )\n",
    "\n",
    "centers=kmeans2.cluster_centers_\n",
    "plt.scatter(centers[:,0],centers[:,1],c='black',s=500)\n",
    "plt.xlabel('Umur')\n",
    "plt.ylabel('Skor Belanja (1-100)')\n",
    "print('n_cluster =3')\n",
    "plt.show()\n",
    "\n",
    "#Hitung silhoutte Coefficient dari ke dua hasil prediksi klustering tersebut\n",
    "from sklearn.metrics import silhouette_score\n",
    "print('silhoutte Coefficient dari ke dua hasil prediksi klustering tersebut')\n",
    "print(silhouette_score(new_dfoutlier_std,labels=labels1))\n",
    "print(silhouette_score(new_dfoutlier_std,labels=labels2))"
   ]
  },
  {
   "cell_type": "markdown",
   "metadata": {
    "id": "Fo1GIiVdFP4j"
   },
   "source": [
    "Expected output:\n",
    "\n",
    "n_cluster =2\n",
    "\n",
    "![](https://drive.google.com/uc?id=1RHedPeGR48w-cWl7WWkIsHTSB2DRgynO)\n",
    "\n",
    "\n",
    "Elbow graph\n",
    "\n",
    "![](https://drive.google.com/uc?id=1S3_uvQWzJCi8YwSBbpu2imKbUBZ3JdmV)\n",
    "\n",
    "n_cluster =3\n",
    "\n",
    "![](https://drive.google.com/uc?id=1EVMDQgPpC8vYpfxilyiJMRDNIr-JXULd)"
   ]
  },
  {
   "cell_type": "markdown",
   "metadata": {
    "id": "5xpMIoEcm8MM"
   },
   "source": [
    "\n",
    "\n",
    "---\n",
    "\n",
    "\n",
    "\n",
    "---\n",
    "\n",
    "\n",
    "\n",
    "---\n",
    "\n"
   ]
  },
  {
   "cell_type": "markdown",
   "metadata": {
    "id": "pt-NFlqTm-Og"
   },
   "source": [
    "# Soal 3. Analisa Data Hasil Clustering\n",
    "\n",
    "Dari hasil klustering diatas, buatlah sebuah analisa segmentasi pelanggan untuk kemajuan supermarket. "
   ]
  },
  {
   "cell_type": "markdown",
   "metadata": {
    "id": "zNPDstJynpva"
   },
   "source": [
    "Jawab disini:\n",
    "\n",
    "segmentasi pelanggan\n",
    "- cluster biru menandakan bahwa pelanggan usia muda lebih banyak berbelanja yang dibuktikan dengan skor belanjan yang tinggi\n",
    "- cluster hijau menandakan usia lebih tua dari cluster biru cenderung untuk berbelanja lebih sedikit \n",
    "- cluster merah menandakan bahwa usia tua hanya berbelanja seperlu nya saja/ memiliki sedikit skor belanja\n",
    "\n",
    "dari data tersebut dapat diambil kesimpulkan\n",
    "untuk memajukan supermarket, supermarket harus menyediakan lebih banyak kebutuhan untuk kalangan muda-mudi daripada untuk kalangan tua / lanjut usia, karena daya beli usia muda lebih tinggi dari pada daya beli usia tua.\n",
    "\n",
    "Sebagai contoh supermarket menjual kebutuhan kalangan usia muda seperti fashion, cosmetik, makanan ringan, dan kebutuhan lain-lain yang sedang trending/ viral.\n",
    "hal ini dapat berdampak terhadap cashflow yang cepat berputar jika lebih banyak barang untuk kalangan muda yang terjual "
   ]
  },
  {
   "cell_type": "code",
   "execution_count": null,
   "metadata": {},
   "outputs": [],
   "source": []
  }
 ],
 "metadata": {
  "colab": {
   "collapsed_sections": [],
   "name": "Tugas_Day_3(EDA).ipynb",
   "provenance": [],
   "toc_visible": true
  },
  "kernelspec": {
   "display_name": "Python 3 (ipykernel)",
   "language": "python",
   "name": "python3"
  },
  "language_info": {
   "codemirror_mode": {
    "name": "ipython",
    "version": 3
   },
   "file_extension": ".py",
   "mimetype": "text/x-python",
   "name": "python",
   "nbconvert_exporter": "python",
   "pygments_lexer": "ipython3",
   "version": "3.9.7"
  }
 },
 "nbformat": 4,
 "nbformat_minor": 1
}
